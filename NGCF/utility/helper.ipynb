{
  "nbformat": 4,
  "nbformat_minor": 0,
  "metadata": {
    "colab": {
      "name": "helper.ipynb",
      "provenance": [],
      "collapsed_sections": []
    },
    "kernelspec": {
      "name": "python3",
      "display_name": "Python 3"
    },
    "language_info": {
      "name": "python"
    }
  },
  "cells": [
    {
      "cell_type": "code",
      "execution_count": null,
      "metadata": {
        "id": "8S2rFvXJPdfo"
      },
      "outputs": [],
      "source": [
        "'''\n",
        "Created on Aug 19, 2016\n",
        "@author: Xiang Wang (xiangwang@u.nus.edu)\n",
        "'''\n",
        "__author__ = \"xiangwang\"\n",
        "import os\n",
        "import re\n",
        "\n",
        "def txt2list(file_src):\n",
        "    orig_file = open(file_src, \"r\")\n",
        "    lines = orig_file.readlines()\n",
        "    return lines\n",
        "\n",
        "def ensureDir(dir_path):\n",
        "    d = os.path.dirname(dir_path)\n",
        "    if not os.path.exists(d):\n",
        "        os.makedirs(d)\n",
        "\n",
        "def uni2str(unicode_str):\n",
        "    return str(unicode_str.encode('ascii', 'ignore')).replace('\\n', '').strip()\n",
        "\n",
        "def hasNumbers(inputString):\n",
        "    return bool(re.search(r'\\d', inputString))\n",
        "\n",
        "def delMultiChar(inputString, chars):\n",
        "    for ch in chars:\n",
        "        inputString = inputString.replace(ch, '')\n",
        "    return inputString\n",
        "\n",
        "def merge_two_dicts(x, y):\n",
        "    z = x.copy()   # start with x's keys and values\n",
        "    z.update(y)    # modifies z with y's keys and values & returns None\n",
        "    return z\n",
        "\n",
        "def early_stopping(log_value, best_value, stopping_step, expected_order='acc', flag_step=100):\n",
        "    # early stopping strategy:\n",
        "    assert expected_order in ['acc', 'dec']\n",
        "\n",
        "    if (expected_order == 'acc' and log_value >= best_value) or (expected_order == 'dec' and log_value <= best_value):\n",
        "        stopping_step = 0\n",
        "        best_value = log_value\n",
        "    else:\n",
        "        stopping_step += 1\n",
        "\n",
        "    if stopping_step >= flag_step:\n",
        "        print(\"Early stopping is trigger at step: {} log:{}\".format(flag_step, log_value))\n",
        "        should_stop = True\n",
        "    else:\n",
        "        should_stop = False\n",
        "    return best_value, stopping_step, should_stop"
      ]
    }
  ]
}