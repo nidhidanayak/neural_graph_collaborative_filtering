{
  "nbformat": 4,
  "nbformat_minor": 0,
  "metadata": {
    "colab": {
      "name": "parser.ipynb",
      "provenance": [],
      "collapsed_sections": []
    },
    "kernelspec": {
      "name": "python3",
      "display_name": "Python 3"
    },
    "language_info": {
      "name": "python"
    }
  },
  "cells": [
    {
      "cell_type": "code",
      "execution_count": null,
      "metadata": {
        "id": "8S2rFvXJPdfo"
      },
      "outputs": [],
      "source": [
        "'''\n",
        "Created on Oct 10, 2018\n",
        "Tensorflow Implementation of Neural Graph Collaborative Filtering (NGCF) model in:\n",
        "Wang Xiang et al. Neural Graph Collaborative Filtering. In SIGIR 2019.\n",
        "\n",
        "@author: Xiang Wang (xiangwang@u.nus.edu)\n",
        "'''\n",
        "import argparse\n",
        "\n",
        "def parse_args():\n",
        "    parser = argparse.ArgumentParser(description=\"Run NGCF.\")\n",
        "    parser.add_argument('--weights_path', nargs='?', default='',\n",
        "                        help='Store model path.')\n",
        "    parser.add_argument('--data_path', nargs='?', default='../Data/',\n",
        "                        help='Input data path.')\n",
        "    parser.add_argument('--proj_path', nargs='?', default='',\n",
        "                        help='Project path.')\n",
        "\n",
        "    parser.add_argument('--dataset', nargs='?', default='gowalla',\n",
        "                        help='Choose a dataset from {gowalla, yelp2018, amazon-book}')\n",
        "    parser.add_argument('--pretrain', type=int, default=0,\n",
        "                        help='0: No pretrain, -1: Pretrain with the learned embeddings, 1:Pretrain with stored models.')\n",
        "    parser.add_argument('--verbose', type=int, default=1,\n",
        "                        help='Interval of evaluation.')\n",
        "    parser.add_argument('--epoch', type=int, default=500,\n",
        "                        help='Number of epoch.')\n",
        "\n",
        "    parser.add_argument('--embed_size', type=int, default=64,\n",
        "                        help='Embedding size.')\n",
        "    parser.add_argument('--layer_size', nargs='?', default='[64]',\n",
        "                        help='Output sizes of every layer')\n",
        "    parser.add_argument('--batch_size', type=int, default=1024,\n",
        "                        help='Batch size.')\n",
        "\n",
        "    parser.add_argument('--regs', nargs='?', default='[1e-5,1e-5,1e-2]',\n",
        "                        help='Regularizations.')\n",
        "    parser.add_argument('--lr', type=float, default=0.01,\n",
        "                        help='Learning rate.')\n",
        "\n",
        "    parser.add_argument('--model_type', nargs='?', default='ngcf',\n",
        "                        help='Specify the name of model (ngcf).')\n",
        "    parser.add_argument('--adj_type', nargs='?', default='norm',\n",
        "                        help='Specify the type of the adjacency (laplacian) matrix from {plain, norm, mean}.')\n",
        "    parser.add_argument('--alg_type', nargs='?', default='ngcf',\n",
        "                        help='Specify the type of the graph convolutional layer from {ngcf, gcn, gcmc}.')\n",
        "\n",
        "    parser.add_argument('--gpu_id', type=int, default=0,\n",
        "                        help='0 for NAIS_prod, 1 for NAIS_concat')\n",
        "\n",
        "    parser.add_argument('--node_dropout_flag', type=int, default=0,\n",
        "                        help='0: Disable node dropout, 1: Activate node dropout')\n",
        "    parser.add_argument('--node_dropout', nargs='?', default='[0.1]',\n",
        "                        help='Keep probability w.r.t. node dropout (i.e., 1-dropout_ratio) for each deep layer. 1: no dropout.')\n",
        "    parser.add_argument('--mess_dropout', nargs='?', default='[0.1]',\n",
        "                        help='Keep probability w.r.t. message dropout (i.e., 1-dropout_ratio) for each deep layer. 1: no dropout.')\n",
        "\n",
        "    parser.add_argument('--Ks', nargs='?', default='[20, 40, 60, 80, 100]',\n",
        "                        help='Output sizes of every layer')\n",
        "\n",
        "    parser.add_argument('--save_flag', type=int, default=0,\n",
        "                        help='0: Disable model saver, 1: Activate model saver')\n",
        "\n",
        "    parser.add_argument('--test_flag', nargs='?', default='part',\n",
        "                        help='Specify the test type from {part, full}, indicating whether the reference is done in mini-batch')\n",
        "\n",
        "    parser.add_argument('--report', type=int, default=0,\n",
        "                        help='0: Disable performance report w.r.t. sparsity levels, 1: Show performance report w.r.t. sparsity levels')\n",
        "    return parser.parse_args()"
      ]
    }
  ]
}